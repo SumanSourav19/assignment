{
 "cells": [
  {
   "cell_type": "markdown",
   "id": "b47523b9-fc17-4de6-96b2-ea7b1d2630e8",
   "metadata": {},
   "source": [
    "1. Who developed python programming language?"
   ]
  },
  {
   "cell_type": "markdown",
   "id": "bf3bf73c-2e06-4bc7-b2c9-4c398e423af1",
   "metadata": {},
   "source": [
    "Ans) Guido van Rossum"
   ]
  },
  {
   "cell_type": "markdown",
   "id": "9d86f0de-2e8b-4996-a5be-687f5ad33ae9",
   "metadata": {},
   "source": [
    "2. Which type of programming does python support?"
   ]
  },
  {
   "cell_type": "markdown",
   "id": "9ec0e7ff-a917-4c67-b415-d4db3f4c4924",
   "metadata": {},
   "source": [
    "Ans) Object-oriented programming and structured programming are fully supported"
   ]
  },
  {
   "cell_type": "markdown",
   "id": "28fca33b-8f16-4395-a216-c66e5156a1c4",
   "metadata": {},
   "source": [
    "3. Is python case sensitive when dealing with identifier?"
   ]
  },
  {
   "cell_type": "markdown",
   "id": "9b9bd099-8023-4ef0-93ba-ac8c40cef4bc",
   "metadata": {},
   "source": [
    "Ans)  Python identifers are case sensitive."
   ]
  },
  {
   "cell_type": "markdown",
   "id": "f76c6376-50d1-4595-94e5-59d6680c44ef",
   "metadata": {},
   "source": [
    "4. What is  the correct extension of the python file?"
   ]
  },
  {
   "cell_type": "markdown",
   "id": "2c88bfb1-ef36-42da-99c4-33facb0ecc06",
   "metadata": {},
   "source": [
    "Ans) .py, .pyi"
   ]
  },
  {
   "cell_type": "markdown",
   "id": "d846dd74-1b25-499a-b4dc-9716bf7871e1",
   "metadata": {},
   "source": [
    "5. Is python compiled or interpreted?"
   ]
  },
  {
   "cell_type": "markdown",
   "id": "243c7159-89fe-4eda-9f7e-e236640624b0",
   "metadata": {},
   "source": [
    "Ans) Python is an interpreted language\", but the hidden fact is Python is both compiled as well as an interpreted language. This means when we run a python code, it is first compiled and then interpreted line by line. "
   ]
  },
  {
   "cell_type": "markdown",
   "id": "1f6c2ef4-7417-4145-ae7b-26adf64d749a",
   "metadata": {},
   "source": [
    "6. Name a few block of code used to define in python language?"
   ]
  },
  {
   "cell_type": "markdown",
   "id": "39b12096-a4c4-455d-a31b-e2feb253c9fb",
   "metadata": {},
   "source": [
    "Ans) Indentation is used to define a block of code in python."
   ]
  },
  {
   "cell_type": "markdown",
   "id": "8d5a5ac6-f8a8-4881-a161-b2c2d382dd12",
   "metadata": {},
   "source": [
    "7. State a character to give single line comment in python?"
   ]
  },
  {
   "cell_type": "markdown",
   "id": "b65c3bf7-3c85-4b51-a31f-b50ffa171481",
   "metadata": {},
   "source": [
    "Ans)  We can write a single-line comment by adding a single # character before any statement or line of code."
   ]
  },
  {
   "cell_type": "markdown",
   "id": "0c42dd02-3573-4eab-9c7a-86b17aea441e",
   "metadata": {},
   "source": [
    "8. Mention functions which can help us to find  the version of python that we are working on?"
   ]
  },
  {
   "cell_type": "markdown",
   "id": "9843513f-38ba-4090-9e00-05c9ef8cdfbf",
   "metadata": {},
   "source": [
    "Ans) Using sys.version method,\n",
    "    Using python_version() function,\n",
    "    Using Python -V command."
   ]
  },
  {
   "cell_type": "markdown",
   "id": "6fcfaf13-91c1-4f3f-8562-d56b03763ce0",
   "metadata": {},
   "source": [
    "9. Python supports the creation of anonymous functions at runtime, using a construct called?"
   ]
  },
  {
   "cell_type": "markdown",
   "id": "c8fd2212-b518-415f-873d-5622711494dc",
   "metadata": {},
   "source": [
    "Ans) It uses a construct called \"lambda\"."
   ]
  },
  {
   "cell_type": "markdown",
   "id": "2715588d-04c4-4796-8cc1-16d1990a7236",
   "metadata": {},
   "source": [
    "10. What does pip stand for python?"
   ]
  },
  {
   "cell_type": "markdown",
   "id": "5b2b09fb-4587-4303-85d2-bce3f2988784",
   "metadata": {},
   "source": [
    "Ans) PIP is a acronym for “Preferred Installer Program” or PIP Installs Packages. It is a command-line utility that installs, reinstalls, or uninstalls PyPI packages with one simple command."
   ]
  },
  {
   "cell_type": "markdown",
   "id": "3f8eccac-10ca-4463-85d0-f7569891e4b3",
   "metadata": {},
   "source": [
    "11. Mention a few built in function in python?"
   ]
  },
  {
   "cell_type": "markdown",
   "id": "aa6a4bf6-11dc-44c2-9263-f6e0012cb2c6",
   "metadata": {},
   "source": [
    "Ans) type()\tReturns the type of an object,\n",
    "     len()\tReturns the length of an object,\n",
    "     print() Prints to the standard output device,\n",
    "     bool()\tReturns the boolean value of the specified object,\n",
    "     dict()\tReturns a dictionary."
   ]
  },
  {
   "cell_type": "markdown",
   "id": "4d56dac8-d101-48dd-b092-fa628a887db9",
   "metadata": {},
   "source": [
    "12. What is the maximum length of an identifier in Python?"
   ]
  },
  {
   "cell_type": "markdown",
   "id": "0606b0fb-dc93-4b5d-8d26-9d473550702a",
   "metadata": {},
   "source": [
    "Ans) An identifier can have a maximum length of 79 characters in Python."
   ]
  },
  {
   "cell_type": "markdown",
   "id": "3d4b64e2-4d77-4bc8-b964-a11d74522e21",
   "metadata": {},
   "source": [
    "13. WWat are the benefits of using Python? "
   ]
  },
  {
   "cell_type": "markdown",
   "id": "b705d457-88bd-47ce-9594-820fbe487383",
   "metadata": {},
   "source": [
    "Ans) Libraries help reduce coding errors, make programmers more efficient, and make software smaller in size (and lines of code)."
   ]
  },
  {
   "cell_type": "markdown",
   "id": "350e1eb0-4b1f-4ed6-a9b1-96e45e06c255",
   "metadata": {},
   "source": [
    "14. How is memory managed in Python?"
   ]
  },
  {
   "cell_type": "markdown",
   "id": "df2eed24-65d9-4eca-bdbd-aec14f44e75c",
   "metadata": {},
   "source": [
    "Ans) Memory management in Python involves a private heap containing all Python objects and data structures. The management of this private heap is ensured internally by the Python memory manager."
   ]
  },
  {
   "cell_type": "markdown",
   "id": "3c2a0094-fc63-4728-a30d-98056ec17eb1",
   "metadata": {},
   "source": [
    "15. How to install Python on Windows and set path variables?"
   ]
  },
  {
   "cell_type": "markdown",
   "id": "33602b7f-bd33-4dff-891b-fb81ffd23463",
   "metadata": {},
   "source": [
    "Ans) 1. Right-clicking This PC and going to Properties.\n",
    "      2.Clicking on the Advanced system settings in the menu on the left.\n",
    "      3.Clicking on the Environment Variables button on the bottom right.\n",
    "      4.In the System variables section, selecting the Path variable and clicking on Edit. The next screen will show all the         directories that are currently a part of the PATH variable.\n",
    "      5.Clicking on New and entering Python’s install directory. "
   ]
  },
  {
   "cell_type": "markdown",
   "id": "a424d85e-138b-4081-ad20-4f9dde14a0a9",
   "metadata": {},
   "source": [
    "16. Is indentation required in Python?"
   ]
  },
  {
   "cell_type": "markdown",
   "id": "5910be89-d691-434d-93bb-d393e7f34e52",
   "metadata": {},
   "source": [
    "Ans) The indentation in Python is very important. Python uses indentation to indicate a block of code."
   ]
  },
  {
   "cell_type": "code",
   "execution_count": null,
   "id": "4a97a0fd-97a5-4c1f-a941-c8e9bb878573",
   "metadata": {},
   "outputs": [],
   "source": []
  }
 ],
 "metadata": {
  "kernelspec": {
   "display_name": "Python 3 (ipykernel)",
   "language": "python",
   "name": "python3"
  },
  "language_info": {
   "codemirror_mode": {
    "name": "ipython",
    "version": 3
   },
   "file_extension": ".py",
   "mimetype": "text/x-python",
   "name": "python",
   "nbconvert_exporter": "python",
   "pygments_lexer": "ipython3",
   "version": "3.10.8"
  }
 },
 "nbformat": 4,
 "nbformat_minor": 5
}
